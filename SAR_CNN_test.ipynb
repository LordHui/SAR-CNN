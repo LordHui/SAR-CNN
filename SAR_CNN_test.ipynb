{
 "nbformat": 4,
 "nbformat_minor": 0,
 "metadata": {
  "colab": {
   "name": "SAR-CNN-test.ipynb",
   "provenance": [],
   "collapsed_sections": [],
   "toc_visible": true,
   "authorship_tag": "ABX9TyNh8xDPBsIoKmmZVcIazf7o",
   "include_colab_link": true
  },
  "kernelspec": {
   "name": "python3",
   "display_name": "Python 3"
  },
  "accelerator": "GPU"
 },
 "cells": [
  {
   "cell_type": "markdown",
   "metadata": {
    "id": "view-in-github",
    "colab_type": "text"
   },
   "source": [
    "<a href=\"https://colab.research.google.com/github/emanueledalsasso/SAR-CNN/blob/master/SAR_CNN_test.ipynb\" target=\"_parent\"><img src=\"https://colab.research.google.com/assets/colab-badge.svg\" alt=\"Open In Colab\"/></a>"
   ]
  },
  {
   "cell_type": "markdown",
   "metadata": {
    "id": "a94OoNwSB4K8",
    "colab_type": "text"
   },
   "source": [
    "# SAR Image Despeckling by Deep Neural Networks: from a pre-trained model to an end-to-end training strategy\n",
    "## Emanuele Dalsasso, Xiangli Yang, Loïc Denis, Florence Tupin, Wen Yang\n",
    "\n",
    "The code is made available under the **GNU General Public License v3.0**: Copyright 2020, Emanuele Dalsasso, Loïc Denis, Florence Tupin, of LTCI research lab - Télécom ParisTech, an Institut Mines Télécom school.\n",
    "All rights reserved.\n",
    "\n",
    "Please note that the training set is only composed of **Sentinel-1** SAR images, thus this testing code is specific to this data."
   ]
  },
  {
   "cell_type": "markdown",
   "source": [
    "## Resources\n",
    "- [Paper (ArXiv)](https://arxiv.org/abs/2006.15559)\n",
    "\n",
    "To cite the article:\n",
    "\n",
    "    @article{dalsasso2020sar,\n",
    "        title={SAR Image Despeckling by Deep Neural Networks: from a pre-trained model to an end-to-end training strategy},\n",
    "        author={Emanuele Dalsasso and Xiangli Yang and Loïc Denis and Florence Tupin and Wen Yang},\n",
    "        journal={arXiv preprint arXiv:2006.15559},\n",
    "        year={2020}\n",
    "    }\n"
   ],
   "metadata": {
    "collapsed": false
   }
  },
  {
   "cell_type": "markdown",
   "metadata": {
    "id": "_ugjl3KuDKwQ",
    "colab_type": "text"
   },
   "source": [
    "## 0. Enable GPU and save copy on Drive to enable editing\n",
    "Runtime -> Change runtime type -> Hardware accelerator: GPU\n",
    "\n",
    "File -> Save a copy in Drive"
   ]
  },
  {
   "cell_type": "markdown",
   "metadata": {
    "id": "rBSypL94C9L3",
    "colab_type": "text"
   },
   "source": [
    "## 1. Download network weights and code"
   ]
  },
  {
   "cell_type": "code",
   "metadata": {
    "id": "Fn6fXbssdjm4",
    "colab_type": "code",
    "colab": {}
   },
   "source": [
    "from google_drive_downloader import GoogleDriveDownloader as gdd\n",
    "\n",
    "gdd.download_file_from_google_drive(file_id='1CgoG3f02uFzpA5PGcwKek9bitp_5T64q',\n",
    "                                    dest_path='./SAR-CNN-test.zip',\n",
    "                                    unzip=True)"
   ],
   "execution_count": null,
   "outputs": []
  },
  {
   "cell_type": "markdown",
   "metadata": {
    "id": "Faq_Z-9TDboL",
    "colab_type": "text"
   },
   "source": [
    "## 2. Install compatible version of tensorflow"
   ]
  },
  {
   "cell_type": "code",
   "metadata": {
    "id": "fnC1KRKBiubW",
    "colab_type": "code",
    "colab": {}
   },
   "source": [
    "!pip install tensorflow-gpu==1.13.1"
   ],
   "execution_count": null,
   "outputs": []
  },
  {
   "cell_type": "markdown",
   "metadata": {
    "id": "chwAdjk3GiIl",
    "colab_type": "text"
   },
   "source": [
    "## A. Test on synthetic data"
   ]
  },
  {
   "cell_type": "code",
   "metadata": {
    "id": "2ETOciKqGFXI",
    "colab_type": "code",
    "colab": {}
   },
   "source": [
    "!python /content/SAR-CNN-test/main.py --test_dir=/content/test_synthetic"
   ],
   "execution_count": null,
   "outputs": []
  },
  {
   "cell_type": "markdown",
   "metadata": {
    "id": "vJfhq_QbGvkg",
    "colab_type": "text"
   },
   "source": [
    "## B. Test on real data\n",
    "Two real Sentinel-1 images can be found in the folder _/content/SAR-CNN-test/test_data/real_ \n",
    "\n",
    "\n",
    "To test on custom data, upload your single channel Sentinel-1 images in a numpy array with shape [ydim, xdim].\n",
    "\n",
    "Results are stored in _/content/test_\n",
    "\n",
    "At each time a test is run, clean the _/content/test_ directory otherwise the results will be overwritten."
   ]
  },
  {
   "cell_type": "code",
   "metadata": {
    "id": "tBownFrNEU5R",
    "colab_type": "code",
    "colab": {}
   },
   "source": [
    "!python /content/SAR-CNN-test/main.py --real_sar=1 --test_dir=/content/test_real"
   ],
   "execution_count": null,
   "outputs": []
  }
 ]
}